{
 "cells": [
  {
   "cell_type": "markdown",
   "id": "11db9852-4319-475a-a881-206123f7b577",
   "metadata": {},
   "source": [
    "\n",
    "1. Write a program to accept percentage the user and display the grade according to the following criteria.\n",
    "\n",
    "| **Marks**     | **Grade**  |\n",
    "|---------------|------------|\n",
    "| >90           |  A         |\n",
    "| >80 and <=90  |  B         |\n",
    "| >=60 and <=80 |  C         |\n",
    "| Below 60      |  D"
   ]
  },
  {
   "cell_type": "code",
   "execution_count": null,
   "id": "314c75d1-45d3-491b-b494-d63b3483343f",
   "metadata": {},
   "outputs": [],
   "source": [
    "# Take percentage as the input.\n",
    "percentage = float(input(\"Enter the percentage\"))\n",
    "\n",
    "# Check if the percentage is between 0 and 100\n",
    "if percentage >= 0 and percentage <= 100:\n",
    "    # Decide the Grade of the student\n",
    "    if percentage > 90:\n",
    "        print(\"Grade = A\")\n",
    "    elif percentage > 80 and percentage <= 90:\n",
    "        print(\"Grade = B\")\n",
    "    elif percentage >= 60 and percentage <= 80:\n",
    "        print(\"Grade = C\")\n",
    "    else:\n",
    "        print(\"Grade = D\")\n",
    "else:\n",
    "    print(\"Invalid percentage entered. Percentage should be between 0 and 100.\")"
   ]
  },
  {
   "cell_type": "markdown",
   "id": "c5047564-498f-4aae-bb75-434c86acc244",
   "metadata": {},
   "source": [
    "2. Write a program to accept the cost price of a bike and display the road tax to be paid according to the following criteria:\n",
    "| **Tax**     | **Cost Price(in Rs)**|\n",
    "|-------------|----------------------|\n",
    "| 15%         | >100000              |\n",
    "| 10%         | >50000 and <=100000  |\n",
    "| 5%          | <=50000              |"
   ]
  },
  {
   "cell_type": "code",
   "execution_count": null,
   "id": "d4072476-55bc-4d04-9d36-49399f480360",
   "metadata": {},
   "outputs": [],
   "source": [
    "#Take bike cost price as input\n",
    "bike_cost = float(input(\"Enter bike cost\"))\n",
    "# Decide the tax on bike cost\n",
    "if bike_cost > 100000 :\n",
    "    road_tax = bike_cost*0.15\n",
    "elif bike_cost > 50000 and bike_cost <=100000 :\n",
    "    road_tax = bike_cost*0.10\n",
    "else: \n",
    "    road_tax=bike_cost*0.05\n",
    "print ( \"The road tax to be paid is Rs\", road_tax)\n",
    "                  "
   ]
  },
  {
   "cell_type": "markdown",
   "id": "cf679735-daeb-4602-bc3e-348bf617c504",
   "metadata": {},
   "source": [
    "3. Accept any city from the user display monuments of that city.\n",
    "| **City**    | **Monument** |   \n",
    "|-------------|--------------|\n",
    "| Delhi       |   Red Fort   |\n",
    "| Agra        |   Taj Mahal  |\n",
    "| Jaipur      |   Jal Mahal  |"
   ]
  },
  {
   "cell_type": "code",
   "execution_count": null,
   "id": "6e96a8a8-b771-43ab-966d-6e035f2afd2d",
   "metadata": {},
   "outputs": [],
   "source": [
    "# Take input as city name\n",
    "city = input(\"Enter a city: \")\n",
    "# Decide the monument according to the city\n",
    "if city.lower() == \"delhi\":\n",
    "    print(\"The monument of Delhi is Red Fort.\")\n",
    "elif city.lower() == \"agra\":\n",
    "    print(\"The monument of Agra is Taj Mahal.\")\n",
    "elif city.lower() == \"jaipur\":\n",
    "    print(\"The monument of Jaipur is Jal Mahal.\")\n",
    "else:\n",
    "    print(\"Sorry, I don't have information about the monument of that city.\")\n"
   ]
  },
  {
   "cell_type": "markdown",
   "id": "88792bc8-5306-46a9-98d9-bc2ad4388442",
   "metadata": {},
   "source": [
    "4. Check how many times a given number can be divided by 3 before it is less than or equal to 10.\n"
   ]
  },
  {
   "cell_type": "code",
   "execution_count": null,
   "id": "2521b620-e36d-410b-93a6-dd29b0c6ec74",
   "metadata": {},
   "outputs": [],
   "source": [
    "number = int(input(\"Enter the Number: \"))\n",
    "counter = 1\n",
    "\n",
    "while number > 10:\n",
    "    number = number / 3\n",
    "    counter += 1\n",
    "\n",
    "print(\"The given number can be divided by 3\" \",\", counter - 1, \"times before it is less than or equal to 10.\")    "
   ]
  },
  {
   "cell_type": "markdown",
   "id": "fb0df985-ad95-4e2f-9004-09c9ad489254",
   "metadata": {},
   "source": [
    "5. Why and When to Use while Loop in Python give a detailed description with example."
   ]
  },
  {
   "cell_type": "markdown",
   "id": "d136b089-d400-4136-a118-11bf5b87cd35",
   "metadata": {},
   "source": [
    "Ans. While loops are control flow statements in Python that allow us to execute a block of code repeatedly as long as a certain condition is met. The condition is checked at the start of each loop iteration, and if it is true, the code block is executed. If the condition is false, the loop is terminated and the programme continues with the statement following the loop.\n",
    "\n",
    "\n",
    "The while loop has the advantage of allowing us to write code that can handle a variable number of iterations based on the input or other factors. A while loop can be used to keep asking the user for input until they enter a valid response, or to calculate the factorial of a number, as shown in the preceding example.\n",
    "\n",
    "\n",
    "Overall, the while loop in Python is a powerful tool for dealing with unknown numbers of iterations and creating complex algorithms. While loops are Python control flow statements that allow us to execute a block of code repeatedly as long as a specific condition is met. At the start of each loop iteration, the condition is checked, and if it is true, the code block is executed. If the condition is false, the loop is broken and the programme continues with the statement after the loop."
   ]
  },
  {
   "cell_type": "code",
   "execution_count": null,
   "id": "b2e713db-9e3e-4ea2-8051-eb08a64b8318",
   "metadata": {},
   "outputs": [],
   "source": [
    "#Example\n",
    "num = int(input(\"Enter a number: \"))\n",
    "factorial = 1\n",
    "i = 1\n",
    "while i <= num:\n",
    "    factorial *= i\n",
    "    i += 1\n",
    "print(\"The factorial of\", num, \"is\", factorial)"
   ]
  },
  {
   "cell_type": "markdown",
   "id": "d21c4244-2c21-4376-9151-cabc69330a1d",
   "metadata": {},
   "source": [
    "6. Use nested while loop to print 3 different pattern."
   ]
  },
  {
   "cell_type": "raw",
   "id": "a071c580-73c1-4ba5-a4cd-449e5c41c457",
   "metadata": {},
   "source": [
    "Ans. \n",
    "*\n",
    "**\n",
    "***\n",
    "****\n",
    "*****\n",
    "\n"
   ]
  },
  {
   "cell_type": "code",
   "execution_count": 7,
   "id": "6d00b3be-3e3c-4d3a-913e-69cda7ebca6e",
   "metadata": {},
   "outputs": [
    {
     "name": "stdout",
     "output_type": "stream",
     "text": [
      "*\n",
      "**\n",
      "***\n",
      "****\n",
      "*****\n"
     ]
    }
   ],
   "source": [
    "i = 1\n",
    "while i <= 5:\n",
    "    j = 1\n",
    "    while j <= i:\n",
    "        print(\"*\", end=\"\")\n",
    "        j += 1\n",
    "    print()\n",
    "    i += 1"
   ]
  },
  {
   "cell_type": "raw",
   "id": "cea2bdf6-9b91-4ddf-8aa0-bfa4cc41a9ae",
   "metadata": {},
   "source": [
    "1\n",
    "12\n",
    "123\n",
    "1234\n",
    "12345\n",
    "\n"
   ]
  },
  {
   "cell_type": "code",
   "execution_count": 1,
   "id": "b3f5d651-2610-4585-9f14-563ea5fad1f3",
   "metadata": {},
   "outputs": [
    {
     "name": "stdout",
     "output_type": "stream",
     "text": [
      "1\n",
      "12\n",
      "123\n",
      "1234\n",
      "12345\n"
     ]
    }
   ],
   "source": [
    "i = 1\n",
    "while i <= 5 :\n",
    "    j = 1\n",
    "    while j<=i:\n",
    "        print (j, end=\"\")\n",
    "        j+=1\n",
    "    print()\n",
    "    i+=1"
   ]
  },
  {
   "cell_type": "raw",
   "id": "6c848aa1-5fe4-4cd4-ab97-05c19f48cd0c",
   "metadata": {},
   "source": [
    "1\n",
    "22\n",
    "333\n",
    "4444\n"
   ]
  },
  {
   "cell_type": "code",
   "execution_count": 4,
   "id": "01885259-fa7f-42b0-827c-c5f531267f81",
   "metadata": {},
   "outputs": [
    {
     "name": "stdout",
     "output_type": "stream",
     "text": [
      "1\n",
      "22\n",
      "333\n",
      "4444\n"
     ]
    }
   ],
   "source": [
    "i = 1\n",
    "while i <= 4:\n",
    "    j = 1\n",
    "    while j <= i:\n",
    "        print(i, end='')\n",
    "        j += 1\n",
    "    print()\n",
    "    i += 1\n",
    "\n"
   ]
  },
  {
   "cell_type": "markdown",
   "id": "9870b0fe-0745-473c-b2b5-df2935e1e405",
   "metadata": {},
   "source": [
    "7. Reverse a while loop to display numbers from l0 to 1."
   ]
  },
  {
   "cell_type": "code",
   "execution_count": 5,
   "id": "64d1b233-73bc-4e79-a0a3-9f1c038611ee",
   "metadata": {},
   "outputs": [
    {
     "name": "stdout",
     "output_type": "stream",
     "text": [
      "10\n",
      "9\n",
      "8\n",
      "7\n",
      "6\n",
      "5\n",
      "4\n",
      "3\n",
      "2\n",
      "1\n"
     ]
    }
   ],
   "source": [
    "i = 10\n",
    "while i >= 1:\n",
    "    print(i)\n",
    "    i -= 1\n"
   ]
  },
  {
   "cell_type": "markdown",
   "id": "7b88a7ca-2a0f-46e4-be4b-63c544aae15c",
   "metadata": {},
   "source": [
    "8. Reverse a while loop to display numbers from l0 to 1."
   ]
  },
  {
   "cell_type": "code",
   "execution_count": 6,
   "id": "00971a0c-f9e4-4183-9fc7-9faa219b556d",
   "metadata": {},
   "outputs": [
    {
     "name": "stdout",
     "output_type": "stream",
     "text": [
      "10\n",
      "9\n",
      "8\n",
      "7\n",
      "6\n",
      "5\n",
      "4\n",
      "3\n",
      "2\n",
      "1\n"
     ]
    }
   ],
   "source": [
    "i = 10\n",
    "while i >= 1:\n",
    "    print(i)\n",
    "    i -= 1"
   ]
  },
  {
   "cell_type": "code",
   "execution_count": null,
   "id": "aabe6ccc-3b07-4954-aa9c-64d67e77cc80",
   "metadata": {},
   "outputs": [],
   "source": []
  }
 ],
 "metadata": {
  "kernelspec": {
   "display_name": "Python 3 (ipykernel)",
   "language": "python",
   "name": "python3"
  },
  "language_info": {
   "codemirror_mode": {
    "name": "ipython",
    "version": 3
   },
   "file_extension": ".py",
   "mimetype": "text/x-python",
   "name": "python",
   "nbconvert_exporter": "python",
   "pygments_lexer": "ipython3",
   "version": "3.10.8"
  }
 },
 "nbformat": 4,
 "nbformat_minor": 5
}
